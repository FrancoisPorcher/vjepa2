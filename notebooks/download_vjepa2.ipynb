{
 "cells": [
  {
   "cell_type": "code",
   "execution_count": 1,
   "id": "d7076fc2",
   "metadata": {},
   "outputs": [],
   "source": [
    "from transformers import AutoVideoProcessor, AutoModel\n",
    "hf_repo = \"facebook/vjepa2-vitl-fpc64-256\"\n",
    "\n",
    "\n",
    "model = AutoModel.from_pretrained(hf_repo)\n",
    "processor = AutoVideoProcessor.from_pretrained(hf_repo)"
   ]
  },
  {
   "cell_type": "code",
   "execution_count": 2,
   "id": "e1953282",
   "metadata": {},
   "outputs": [
    {
     "data": {
      "text/plain": [
       "VJEPA2VideoProcessor {\n",
       "  \"crop_size\": {\n",
       "    \"height\": 256,\n",
       "    \"width\": 256\n",
       "  },\n",
       "  \"data_format\": \"channels_first\",\n",
       "  \"default_to_square\": true,\n",
       "  \"device\": null,\n",
       "  \"do_center_crop\": true,\n",
       "  \"do_convert_rgb\": null,\n",
       "  \"do_normalize\": true,\n",
       "  \"do_pad\": null,\n",
       "  \"do_rescale\": true,\n",
       "  \"do_resize\": true,\n",
       "  \"do_sample_frames\": null,\n",
       "  \"fps\": null,\n",
       "  \"image_mean\": [\n",
       "    0.485,\n",
       "    0.456,\n",
       "    0.406\n",
       "  ],\n",
       "  \"image_std\": [\n",
       "    0.229,\n",
       "    0.224,\n",
       "    0.225\n",
       "  ],\n",
       "  \"input_data_format\": null,\n",
       "  \"num_frames\": null,\n",
       "  \"resample\": 2,\n",
       "  \"rescale_factor\": 0.00392156862745098,\n",
       "  \"size\": {\n",
       "    \"shortest_edge\": 292\n",
       "  },\n",
       "  \"size_divisor\": null,\n",
       "  \"video_metadata\": null,\n",
       "  \"video_processor_type\": \"VJEPA2VideoProcessor\"\n",
       "}"
      ]
     },
     "execution_count": 2,
     "metadata": {},
     "output_type": "execute_result"
    }
   ],
   "source": [
    "processor"
   ]
  },
  {
   "cell_type": "code",
   "execution_count": null,
   "id": "64d7ccfc",
   "metadata": {},
   "outputs": [],
   "source": []
  }
 ],
 "metadata": {
  "kernelspec": {
   "display_name": "vjepa2-312",
   "language": "python",
   "name": "python3"
  },
  "language_info": {
   "codemirror_mode": {
    "name": "ipython",
    "version": 3
   },
   "file_extension": ".py",
   "mimetype": "text/x-python",
   "name": "python",
   "nbconvert_exporter": "python",
   "pygments_lexer": "ipython3",
   "version": "3.12.11"
  }
 },
 "nbformat": 4,
 "nbformat_minor": 5
}

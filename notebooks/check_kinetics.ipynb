{
 "cells": [
  {
   "cell_type": "code",
   "execution_count": 1,
   "id": "effde64b",
   "metadata": {},
   "outputs": [],
   "source": [
    "import pandas as pd\n"
   ]
  },
  {
   "cell_type": "code",
   "execution_count": 34,
   "id": "b0c471d5",
   "metadata": {},
   "outputs": [],
   "source": [
    "manifest_path = \"/private/home/francoisporcher/kinetics_400_embeddings_vjepa2_vitl_fpc64_256/manifest.csv\"\n",
    "df = pd.read_csv(manifest_path)"
   ]
  },
  {
   "cell_type": "code",
   "execution_count": 3,
   "id": "0c884057",
   "metadata": {},
   "outputs": [
    {
     "data": {
      "text/html": [
       "<div>\n",
       "<style scoped>\n",
       "    .dataframe tbody tr th:only-of-type {\n",
       "        vertical-align: middle;\n",
       "    }\n",
       "\n",
       "    .dataframe tbody tr th {\n",
       "        vertical-align: top;\n",
       "    }\n",
       "\n",
       "    .dataframe thead th {\n",
       "        text-align: right;\n",
       "    }\n",
       "</style>\n",
       "<table border=\"1\" class=\"dataframe\">\n",
       "  <thead>\n",
       "    <tr style=\"text-align: right;\">\n",
       "      <th></th>\n",
       "      <th>video_path</th>\n",
       "      <th>index</th>\n",
       "      <th>out_path</th>\n",
       "      <th>padded</th>\n",
       "      <th>failed</th>\n",
       "      <th>error</th>\n",
       "      <th>n_frames</th>\n",
       "      <th>feature_shape</th>\n",
       "    </tr>\n",
       "  </thead>\n",
       "  <tbody>\n",
       "    <tr>\n",
       "      <th>0</th>\n",
       "      <td>/checkpoint/abardes/datasets/Kinetics400/train...</td>\n",
       "      <td>0</td>\n",
       "      <td>/private/home/francoisporcher/kinetics_400_emb...</td>\n",
       "      <td>False</td>\n",
       "      <td>False</td>\n",
       "      <td>NaN</td>\n",
       "      <td>250</td>\n",
       "      <td>(8192, 1024)</td>\n",
       "    </tr>\n",
       "    <tr>\n",
       "      <th>1</th>\n",
       "      <td>/checkpoint/abardes/datasets/Kinetics400/train...</td>\n",
       "      <td>0</td>\n",
       "      <td>/private/home/francoisporcher/kinetics_400_emb...</td>\n",
       "      <td>False</td>\n",
       "      <td>False</td>\n",
       "      <td>NaN</td>\n",
       "      <td>250</td>\n",
       "      <td>(8192, 1024)</td>\n",
       "    </tr>\n",
       "    <tr>\n",
       "      <th>2</th>\n",
       "      <td>/checkpoint/abardes/datasets/Kinetics400/train...</td>\n",
       "      <td>0</td>\n",
       "      <td>/private/home/francoisporcher/kinetics_400_emb...</td>\n",
       "      <td>False</td>\n",
       "      <td>False</td>\n",
       "      <td>NaN</td>\n",
       "      <td>300</td>\n",
       "      <td>(8192, 1024)</td>\n",
       "    </tr>\n",
       "    <tr>\n",
       "      <th>3</th>\n",
       "      <td>/checkpoint/abardes/datasets/Kinetics400/train...</td>\n",
       "      <td>0</td>\n",
       "      <td>/private/home/francoisporcher/kinetics_400_emb...</td>\n",
       "      <td>False</td>\n",
       "      <td>False</td>\n",
       "      <td>NaN</td>\n",
       "      <td>300</td>\n",
       "      <td>(8192, 1024)</td>\n",
       "    </tr>\n",
       "    <tr>\n",
       "      <th>4</th>\n",
       "      <td>/checkpoint/abardes/datasets/Kinetics400/train...</td>\n",
       "      <td>0</td>\n",
       "      <td>/private/home/francoisporcher/kinetics_400_emb...</td>\n",
       "      <td>False</td>\n",
       "      <td>False</td>\n",
       "      <td>NaN</td>\n",
       "      <td>250</td>\n",
       "      <td>(8192, 1024)</td>\n",
       "    </tr>\n",
       "    <tr>\n",
       "      <th>...</th>\n",
       "      <td>...</td>\n",
       "      <td>...</td>\n",
       "      <td>...</td>\n",
       "      <td>...</td>\n",
       "      <td>...</td>\n",
       "      <td>...</td>\n",
       "      <td>...</td>\n",
       "      <td>...</td>\n",
       "    </tr>\n",
       "    <tr>\n",
       "      <th>234147</th>\n",
       "      <td>/checkpoint/abardes/datasets/Kinetics400/train...</td>\n",
       "      <td>399</td>\n",
       "      <td>/private/home/francoisporcher/kinetics_400_emb...</td>\n",
       "      <td>False</td>\n",
       "      <td>False</td>\n",
       "      <td>NaN</td>\n",
       "      <td>300</td>\n",
       "      <td>(8192, 1024)</td>\n",
       "    </tr>\n",
       "    <tr>\n",
       "      <th>234148</th>\n",
       "      <td>/checkpoint/abardes/datasets/Kinetics400/train...</td>\n",
       "      <td>399</td>\n",
       "      <td>/private/home/francoisporcher/kinetics_400_emb...</td>\n",
       "      <td>False</td>\n",
       "      <td>False</td>\n",
       "      <td>NaN</td>\n",
       "      <td>300</td>\n",
       "      <td>(8192, 1024)</td>\n",
       "    </tr>\n",
       "    <tr>\n",
       "      <th>234149</th>\n",
       "      <td>/checkpoint/abardes/datasets/Kinetics400/train...</td>\n",
       "      <td>399</td>\n",
       "      <td>/private/home/francoisporcher/kinetics_400_emb...</td>\n",
       "      <td>False</td>\n",
       "      <td>False</td>\n",
       "      <td>NaN</td>\n",
       "      <td>300</td>\n",
       "      <td>(8192, 1024)</td>\n",
       "    </tr>\n",
       "    <tr>\n",
       "      <th>234150</th>\n",
       "      <td>/checkpoint/abardes/datasets/Kinetics400/train...</td>\n",
       "      <td>399</td>\n",
       "      <td>/private/home/francoisporcher/kinetics_400_emb...</td>\n",
       "      <td>False</td>\n",
       "      <td>False</td>\n",
       "      <td>NaN</td>\n",
       "      <td>300</td>\n",
       "      <td>(8192, 1024)</td>\n",
       "    </tr>\n",
       "    <tr>\n",
       "      <th>234151</th>\n",
       "      <td>/checkpoint/abardes/datasets/Kinetics400/train...</td>\n",
       "      <td>0</td>\n",
       "      <td>/private/home/francoisporcher/kinetics_400_emb...</td>\n",
       "      <td>False</td>\n",
       "      <td>False</td>\n",
       "      <td>NaN</td>\n",
       "      <td>250</td>\n",
       "      <td>(8192, 1024)</td>\n",
       "    </tr>\n",
       "  </tbody>\n",
       "</table>\n",
       "<p>234152 rows × 8 columns</p>\n",
       "</div>"
      ],
      "text/plain": [
       "                                               video_path  index  \\\n",
       "0       /checkpoint/abardes/datasets/Kinetics400/train...      0   \n",
       "1       /checkpoint/abardes/datasets/Kinetics400/train...      0   \n",
       "2       /checkpoint/abardes/datasets/Kinetics400/train...      0   \n",
       "3       /checkpoint/abardes/datasets/Kinetics400/train...      0   \n",
       "4       /checkpoint/abardes/datasets/Kinetics400/train...      0   \n",
       "...                                                   ...    ...   \n",
       "234147  /checkpoint/abardes/datasets/Kinetics400/train...    399   \n",
       "234148  /checkpoint/abardes/datasets/Kinetics400/train...    399   \n",
       "234149  /checkpoint/abardes/datasets/Kinetics400/train...    399   \n",
       "234150  /checkpoint/abardes/datasets/Kinetics400/train...    399   \n",
       "234151  /checkpoint/abardes/datasets/Kinetics400/train...      0   \n",
       "\n",
       "                                                 out_path  padded  failed  \\\n",
       "0       /private/home/francoisporcher/kinetics_400_emb...   False   False   \n",
       "1       /private/home/francoisporcher/kinetics_400_emb...   False   False   \n",
       "2       /private/home/francoisporcher/kinetics_400_emb...   False   False   \n",
       "3       /private/home/francoisporcher/kinetics_400_emb...   False   False   \n",
       "4       /private/home/francoisporcher/kinetics_400_emb...   False   False   \n",
       "...                                                   ...     ...     ...   \n",
       "234147  /private/home/francoisporcher/kinetics_400_emb...   False   False   \n",
       "234148  /private/home/francoisporcher/kinetics_400_emb...   False   False   \n",
       "234149  /private/home/francoisporcher/kinetics_400_emb...   False   False   \n",
       "234150  /private/home/francoisporcher/kinetics_400_emb...   False   False   \n",
       "234151  /private/home/francoisporcher/kinetics_400_emb...   False   False   \n",
       "\n",
       "        error  n_frames feature_shape  \n",
       "0         NaN       250  (8192, 1024)  \n",
       "1         NaN       250  (8192, 1024)  \n",
       "2         NaN       300  (8192, 1024)  \n",
       "3         NaN       300  (8192, 1024)  \n",
       "4         NaN       250  (8192, 1024)  \n",
       "...       ...       ...           ...  \n",
       "234147    NaN       300  (8192, 1024)  \n",
       "234148    NaN       300  (8192, 1024)  \n",
       "234149    NaN       300  (8192, 1024)  \n",
       "234150    NaN       300  (8192, 1024)  \n",
       "234151    NaN       250  (8192, 1024)  \n",
       "\n",
       "[234152 rows x 8 columns]"
      ]
     },
     "execution_count": 3,
     "metadata": {},
     "output_type": "execute_result"
    }
   ],
   "source": [
    "df"
   ]
  },
  {
   "cell_type": "markdown",
   "id": "a1f0a0e3",
   "metadata": {},
   "source": [
    "# How many are padded"
   ]
  },
  {
   "cell_type": "code",
   "execution_count": null,
   "id": "bb215c87",
   "metadata": {},
   "outputs": [
    {
     "name": "stdout",
     "output_type": "stream",
     "text": [
      "0.046051282927329254\n"
     ]
    }
   ],
   "source": [
    "import numpy as np\n",
    "print(np.sum(df['padded'] == True) / df.shape[0])"
   ]
  },
  {
   "cell_type": "markdown",
   "id": "ff0149b7",
   "metadata": {},
   "source": [
    "# How many failed"
   ]
  },
  {
   "cell_type": "code",
   "execution_count": 13,
   "id": "b948d914",
   "metadata": {},
   "outputs": [
    {
     "name": "stdout",
     "output_type": "stream",
     "text": [
      "Number of failed 0\n"
     ]
    }
   ],
   "source": [
    "print(\"Number of failed\", np.sum(df['failed'] == True))"
   ]
  },
  {
   "cell_type": "markdown",
   "id": "791eb0b7",
   "metadata": {},
   "source": [
    "# Number of errors"
   ]
  },
  {
   "cell_type": "code",
   "execution_count": 17,
   "id": "43a73d49",
   "metadata": {},
   "outputs": [
    {
     "data": {
      "text/plain": [
       "array([nan])"
      ]
     },
     "execution_count": 17,
     "metadata": {},
     "output_type": "execute_result"
    }
   ],
   "source": [
    "df['error'].unique()"
   ]
  },
  {
   "cell_type": "markdown",
   "id": "6616b672",
   "metadata": {},
   "source": [
    "# Number of frames"
   ]
  },
  {
   "cell_type": "code",
   "execution_count": 22,
   "id": "f614e225",
   "metadata": {},
   "outputs": [
    {
     "data": {
      "image/png": "[encoded data removed]",
      "text/plain": [
       "<Figure size 640x480 with 1 Axes>"
      ]
     },
     "metadata": {},
     "output_type": "display_data"
    }
   ],
   "source": [
    "import matplotlib.pyplot as plt\n",
    "\n",
    "plt.hist(df['n_frames'], bins=30)  # adjust bins if needed\n",
    "plt.xlabel(\"n_frames\")\n",
    "plt.ylabel(\"Frequency\")\n",
    "plt.title(\"Histogram of n_frames\")\n",
    "plt.show()\n"
   ]
  },
  {
   "cell_type": "code",
   "execution_count": 26,
   "id": "e6e736ba",
   "metadata": {},
   "outputs": [
    {
     "name": "stdout",
     "output_type": "stream",
     "text": [
      "Proportion of clips with more frames that the context (128) 0.9532525880624552\n"
     ]
    }
   ],
   "source": [
    "print(\"Proportion of clips with more frames that the context (128)\", np.sum((df['n_frames'] > 128)) / df.shape[0])"
   ]
  },
  {
   "cell_type": "markdown",
   "id": "a05296e8",
   "metadata": {},
   "source": [
    "# Proportion of information used"
   ]
  },
  {
   "cell_type": "code",
   "execution_count": 29,
   "id": "0b8227d0",
   "metadata": {},
   "outputs": [
    {
     "name": "stdout",
     "output_type": "stream",
     "text": [
      "Proportion of total frames used 0.4810220770908102\n"
     ]
    }
   ],
   "source": [
    "used_frames = df['n_frames'].clip(upper=128).sum()\n",
    "total_frames = df['n_frames'].sum()\n",
    "\n",
    "proportion_used = used_frames / total_frames\n",
    "print(\"Proportion of total frames used\", proportion_used)\n"
   ]
  },
  {
   "cell_type": "markdown",
   "id": "b30a721b",
   "metadata": {},
   "source": [
    "# There is an extra value to remove"
   ]
  },
  {
   "cell_type": "code",
   "execution_count": 30,
   "id": "0947d390",
   "metadata": {},
   "outputs": [
    {
     "data": {
      "text/plain": [
       "234152"
      ]
     },
     "execution_count": 30,
     "metadata": {},
     "output_type": "execute_result"
    }
   ],
   "source": [
    "df.shape[0]"
   ]
  },
  {
   "cell_type": "code",
   "execution_count": 32,
   "id": "7984bf68",
   "metadata": {},
   "outputs": [
    {
     "data": {
      "text/plain": [
       "0         /checkpoint/abardes/datasets/Kinetics400/train...\n",
       "1         /checkpoint/abardes/datasets/Kinetics400/train...\n",
       "2         /checkpoint/abardes/datasets/Kinetics400/train...\n",
       "3         /checkpoint/abardes/datasets/Kinetics400/train...\n",
       "4         /checkpoint/abardes/datasets/Kinetics400/train...\n",
       "                                ...                        \n",
       "234147    /checkpoint/abardes/datasets/Kinetics400/train...\n",
       "234148    /checkpoint/abardes/datasets/Kinetics400/train...\n",
       "234149    /checkpoint/abardes/datasets/Kinetics400/train...\n",
       "234150    /checkpoint/abardes/datasets/Kinetics400/train...\n",
       "234151    /checkpoint/abardes/datasets/Kinetics400/train...\n",
       "Name: video_path, Length: 234152, dtype: object"
      ]
     },
     "execution_count": 32,
     "metadata": {},
     "output_type": "execute_result"
    }
   ],
   "source": [
    "df['video_path']"
   ]
  },
  {
   "cell_type": "code",
   "execution_count": 33,
   "id": "c961c115",
   "metadata": {},
   "outputs": [
    {
     "data": {
      "text/plain": [
       "29269"
      ]
     },
     "execution_count": 33,
     "metadata": {},
     "output_type": "execute_result"
    }
   ],
   "source": [
    "234152 // 8"
   ]
  },
  {
   "cell_type": "code",
   "execution_count": 35,
   "id": "32ff365e",
   "metadata": {},
   "outputs": [
    {
     "name": "stdout",
     "output_type": "stream",
     "text": [
      "Total rows: 234152\n",
      "Unique samples: 234145\n",
      "Duplicates removed: 7\n"
     ]
    }
   ],
   "source": [
    "import pandas as pd\n",
    "\n",
    "man = pd.read_csv(manifest_path)\n",
    "\n",
    "# Find duplicate entries (same source sample)\n",
    "dupe_mask = man.duplicated(subset=[\"video_path\", \"index\"], keep=False)\n",
    "dupes = man[dupe_mask].sort_values([\"video_path\", \"index\"])\n",
    "\n",
    "# Prefer successes over failures when deduping\n",
    "clean = (\n",
    "    man.sort_values([\"failed\"])  # False (0) comes before True (1)\n",
    "       .drop_duplicates(subset=[\"video_path\", \"index\"], keep=\"first\")\n",
    ")\n",
    "\n",
    "print(\"Total rows:\", len(man))\n",
    "print(\"Unique samples:\", len(clean))\n",
    "print(\"Duplicates removed:\", len(man) - len(clean))"
   ]
  },
  {
   "cell_type": "code",
   "execution_count": 37,
   "id": "8ecea789",
   "metadata": {},
   "outputs": [],
   "source": [
    "clean.to_csv(manifest_path, index=False)"
   ]
  },
  {
   "cell_type": "code",
   "execution_count": 38,
   "id": "96e20f81",
   "metadata": {},
   "outputs": [],
   "source": [
    "df = pd.read_csv(manifest_path)"
   ]
  },
  {
   "cell_type": "code",
   "execution_count": 39,
   "id": "648c90a0",
   "metadata": {},
   "outputs": [
    {
     "data": {
      "text/html": [
       "<div>\n",
       "<style scoped>\n",
       "    .dataframe tbody tr th:only-of-type {\n",
       "        vertical-align: middle;\n",
       "    }\n",
       "\n",
       "    .dataframe tbody tr th {\n",
       "        vertical-align: top;\n",
       "    }\n",
       "\n",
       "    .dataframe thead th {\n",
       "        text-align: right;\n",
       "    }\n",
       "</style>\n",
       "<table border=\"1\" class=\"dataframe\">\n",
       "  <thead>\n",
       "    <tr style=\"text-align: right;\">\n",
       "      <th></th>\n",
       "      <th>video_path</th>\n",
       "      <th>index</th>\n",
       "      <th>out_path</th>\n",
       "      <th>padded</th>\n",
       "      <th>failed</th>\n",
       "      <th>error</th>\n",
       "      <th>n_frames</th>\n",
       "      <th>feature_shape</th>\n",
       "    </tr>\n",
       "  </thead>\n",
       "  <tbody>\n",
       "    <tr>\n",
       "      <th>0</th>\n",
       "      <td>/checkpoint/abardes/datasets/Kinetics400/train...</td>\n",
       "      <td>0</td>\n",
       "      <td>/private/home/francoisporcher/kinetics_400_emb...</td>\n",
       "      <td>False</td>\n",
       "      <td>False</td>\n",
       "      <td>NaN</td>\n",
       "      <td>250</td>\n",
       "      <td>(8192, 1024)</td>\n",
       "    </tr>\n",
       "    <tr>\n",
       "      <th>1</th>\n",
       "      <td>/checkpoint/abardes/datasets/Kinetics400/train...</td>\n",
       "      <td>123</td>\n",
       "      <td>/private/home/francoisporcher/kinetics_400_emb...</td>\n",
       "      <td>False</td>\n",
       "      <td>False</td>\n",
       "      <td>NaN</td>\n",
       "      <td>250</td>\n",
       "      <td>(8192, 1024)</td>\n",
       "    </tr>\n",
       "    <tr>\n",
       "      <th>2</th>\n",
       "      <td>/checkpoint/abardes/datasets/Kinetics400/train...</td>\n",
       "      <td>123</td>\n",
       "      <td>/private/home/francoisporcher/kinetics_400_emb...</td>\n",
       "      <td>False</td>\n",
       "      <td>False</td>\n",
       "      <td>NaN</td>\n",
       "      <td>150</td>\n",
       "      <td>(8192, 1024)</td>\n",
       "    </tr>\n",
       "    <tr>\n",
       "      <th>3</th>\n",
       "      <td>/checkpoint/abardes/datasets/Kinetics400/train...</td>\n",
       "      <td>123</td>\n",
       "      <td>/private/home/francoisporcher/kinetics_400_emb...</td>\n",
       "      <td>False</td>\n",
       "      <td>False</td>\n",
       "      <td>NaN</td>\n",
       "      <td>300</td>\n",
       "      <td>(8192, 1024)</td>\n",
       "    </tr>\n",
       "    <tr>\n",
       "      <th>4</th>\n",
       "      <td>/checkpoint/abardes/datasets/Kinetics400/train...</td>\n",
       "      <td>123</td>\n",
       "      <td>/private/home/francoisporcher/kinetics_400_emb...</td>\n",
       "      <td>False</td>\n",
       "      <td>False</td>\n",
       "      <td>NaN</td>\n",
       "      <td>300</td>\n",
       "      <td>(8192, 1024)</td>\n",
       "    </tr>\n",
       "    <tr>\n",
       "      <th>...</th>\n",
       "      <td>...</td>\n",
       "      <td>...</td>\n",
       "      <td>...</td>\n",
       "      <td>...</td>\n",
       "      <td>...</td>\n",
       "      <td>...</td>\n",
       "      <td>...</td>\n",
       "      <td>...</td>\n",
       "    </tr>\n",
       "    <tr>\n",
       "      <th>234140</th>\n",
       "      <td>/checkpoint/abardes/datasets/Kinetics400/train...</td>\n",
       "      <td>260</td>\n",
       "      <td>/private/home/francoisporcher/kinetics_400_emb...</td>\n",
       "      <td>False</td>\n",
       "      <td>False</td>\n",
       "      <td>NaN</td>\n",
       "      <td>300</td>\n",
       "      <td>(8192, 1024)</td>\n",
       "    </tr>\n",
       "    <tr>\n",
       "      <th>234141</th>\n",
       "      <td>/checkpoint/abardes/datasets/Kinetics400/train...</td>\n",
       "      <td>260</td>\n",
       "      <td>/private/home/francoisporcher/kinetics_400_emb...</td>\n",
       "      <td>True</td>\n",
       "      <td>False</td>\n",
       "      <td>NaN</td>\n",
       "      <td>69</td>\n",
       "      <td>(8192, 1024)</td>\n",
       "    </tr>\n",
       "    <tr>\n",
       "      <th>234142</th>\n",
       "      <td>/checkpoint/abardes/datasets/Kinetics400/train...</td>\n",
       "      <td>260</td>\n",
       "      <td>/private/home/francoisporcher/kinetics_400_emb...</td>\n",
       "      <td>False</td>\n",
       "      <td>False</td>\n",
       "      <td>NaN</td>\n",
       "      <td>143</td>\n",
       "      <td>(8192, 1024)</td>\n",
       "    </tr>\n",
       "    <tr>\n",
       "      <th>234143</th>\n",
       "      <td>/checkpoint/abardes/datasets/Kinetics400/train...</td>\n",
       "      <td>260</td>\n",
       "      <td>/private/home/francoisporcher/kinetics_400_emb...</td>\n",
       "      <td>False</td>\n",
       "      <td>False</td>\n",
       "      <td>NaN</td>\n",
       "      <td>240</td>\n",
       "      <td>(8192, 1024)</td>\n",
       "    </tr>\n",
       "    <tr>\n",
       "      <th>234144</th>\n",
       "      <td>/checkpoint/abardes/datasets/Kinetics400/train...</td>\n",
       "      <td>260</td>\n",
       "      <td>/private/home/francoisporcher/kinetics_400_emb...</td>\n",
       "      <td>False</td>\n",
       "      <td>False</td>\n",
       "      <td>NaN</td>\n",
       "      <td>300</td>\n",
       "      <td>(8192, 1024)</td>\n",
       "    </tr>\n",
       "  </tbody>\n",
       "</table>\n",
       "<p>234145 rows × 8 columns</p>\n",
       "</div>"
      ],
      "text/plain": [
       "                                               video_path  index  \\\n",
       "0       /checkpoint/abardes/datasets/Kinetics400/train...      0   \n",
       "1       /checkpoint/abardes/datasets/Kinetics400/train...    123   \n",
       "2       /checkpoint/abardes/datasets/Kinetics400/train...    123   \n",
       "3       /checkpoint/abardes/datasets/Kinetics400/train...    123   \n",
       "4       /checkpoint/abardes/datasets/Kinetics400/train...    123   \n",
       "...                                                   ...    ...   \n",
       "234140  /checkpoint/abardes/datasets/Kinetics400/train...    260   \n",
       "234141  /checkpoint/abardes/datasets/Kinetics400/train...    260   \n",
       "234142  /checkpoint/abardes/datasets/Kinetics400/train...    260   \n",
       "234143  /checkpoint/abardes/datasets/Kinetics400/train...    260   \n",
       "234144  /checkpoint/abardes/datasets/Kinetics400/train...    260   \n",
       "\n",
       "                                                 out_path  padded  failed  \\\n",
       "0       /private/home/francoisporcher/kinetics_400_emb...   False   False   \n",
       "1       /private/home/francoisporcher/kinetics_400_emb...   False   False   \n",
       "2       /private/home/francoisporcher/kinetics_400_emb...   False   False   \n",
       "3       /private/home/francoisporcher/kinetics_400_emb...   False   False   \n",
       "4       /private/home/francoisporcher/kinetics_400_emb...   False   False   \n",
       "...                                                   ...     ...     ...   \n",
       "234140  /private/home/francoisporcher/kinetics_400_emb...   False   False   \n",
       "234141  /private/home/francoisporcher/kinetics_400_emb...    True   False   \n",
       "234142  /private/home/francoisporcher/kinetics_400_emb...   False   False   \n",
       "234143  /private/home/francoisporcher/kinetics_400_emb...   False   False   \n",
       "234144  /private/home/francoisporcher/kinetics_400_emb...   False   False   \n",
       "\n",
       "        error  n_frames feature_shape  \n",
       "0         NaN       250  (8192, 1024)  \n",
       "1         NaN       250  (8192, 1024)  \n",
       "2         NaN       150  (8192, 1024)  \n",
       "3         NaN       300  (8192, 1024)  \n",
       "4         NaN       300  (8192, 1024)  \n",
       "...       ...       ...           ...  \n",
       "234140    NaN       300  (8192, 1024)  \n",
       "234141    NaN        69  (8192, 1024)  \n",
       "234142    NaN       143  (8192, 1024)  \n",
       "234143    NaN       240  (8192, 1024)  \n",
       "234144    NaN       300  (8192, 1024)  \n",
       "\n",
       "[234145 rows x 8 columns]"
      ]
     },
     "execution_count": 39,
     "metadata": {},
     "output_type": "execute_result"
    }
   ],
   "source": [
    "df"
   ]
  },
  {
   "cell_type": "code",
   "execution_count": null,
   "id": "550c0cca",
   "metadata": {},
   "outputs": [],
   "source": []
  }
 ],
 "metadata": {
  "kernelspec": {
   "display_name": "vjepa2-312",
   "language": "python",
   "name": "python3"
  },
  "language_info": {
   "codemirror_mode": {
    "name": "ipython",
    "version": 3
   },
   "file_extension": ".py",
   "mimetype": "text/x-python",
   "name": "python",
   "nbconvert_exporter": "python",
   "pygments_lexer": "ipython3",
   "version": "3.12.11"
  }
 },
 "nbformat": 4,
 "nbformat_minor": 5
}
